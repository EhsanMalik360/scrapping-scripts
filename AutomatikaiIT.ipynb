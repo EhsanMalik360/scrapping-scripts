{
 "cells": [
  {
   "cell_type": "code",
   "execution_count": 394,
   "id": "7bf021d2",
   "metadata": {},
   "outputs": [],
   "source": [
    "#importing required libraries\n",
    "import time\n",
    "import pandas as pd\n",
    "from selenium import webdriver\n",
    "from selenium.webdriver.common.keys import Keys\n",
    "from selenium.webdriver.common.by import By"
   ]
  },
  {
   "cell_type": "code",
   "execution_count": 395,
   "id": "4fcf4293",
   "metadata": {},
   "outputs": [
    {
     "name": "stdout",
     "output_type": "stream",
     "text": [
      "Enter the Url to scrape : https://automatikai.lt/en/10112-xtra\n"
     ]
    }
   ],
   "source": [
    "url_to_scrap=input(\"Enter the Url to scrape : \")"
   ]
  },
  {
   "cell_type": "code",
   "execution_count": 396,
   "id": "31d81afd",
   "metadata": {},
   "outputs": [],
   "source": [
    "#Starting Web Driver and getting webpage contents\n",
    "browser = webdriver.Chrome()\n",
    "browser.get(url_to_scrap)\n",
    "time.sleep(1)"
   ]
  },
  {
   "cell_type": "code",
   "execution_count": 397,
   "id": "c06baafe",
   "metadata": {},
   "outputs": [
    {
     "data": {
      "text/plain": [
       "'\\nelem = browser.find_element(By.XPATH, \"//body\")\\n\\n\\nno_of_pagedowns = 20\\n\\nwhile no_of_pagedowns:\\n    elem.send_keys(Keys.PAGE_DOWN)\\n    time.sleep(0.2)\\n    no_of_pagedowns-=1\\n    \\n '"
      ]
     },
     "execution_count": 397,
     "metadata": {},
     "output_type": "execute_result"
    }
   ],
   "source": [
    "#use if known number of scrolls\n",
    "\"\"\"\n",
    "elem = browser.find_element(By.XPATH, \"//body\")\n",
    "\n",
    "\n",
    "no_of_pagedowns = 20\n",
    "\n",
    "while no_of_pagedowns:\n",
    "    elem.send_keys(Keys.PAGE_DOWN)\n",
    "    time.sleep(0.2)\n",
    "    no_of_pagedowns-=1\n",
    "    \n",
    " \"\"\""
   ]
  },
  {
   "cell_type": "code",
   "execution_count": 398,
   "id": "f08c3daf",
   "metadata": {},
   "outputs": [],
   "source": [
    "#Scroll till the end of page\n",
    "browser.execute_script(\"window.scrollTo(0, document.body.scrollHeight);\")"
   ]
  },
  {
   "cell_type": "code",
   "execution_count": 399,
   "id": "9be5e97c",
   "metadata": {},
   "outputs": [],
   "source": [
    "#Extracting required elements from webpage\n",
    "product_title = browser.find_elements(By.XPATH, \"//a[@class='product-name']\")\n",
    "\n",
    "\n",
    "links_div_one = browser.find_elements(By.XPATH, \"//a[@class='product-name']\")\n"
   ]
  },
  {
   "cell_type": "code",
   "execution_count": 400,
   "id": "353c3378",
   "metadata": {},
   "outputs": [
    {
     "name": "stdout",
     "output_type": "stream",
     "text": [
      "\n",
      "*********Product Titles from main page*********\n",
      "\n",
      "Selfie Stick Linocell\n",
      "Selfie Stick Oth-AB402\n",
      "KEY ORGANIZER modern-1\n"
     ]
    }
   ],
   "source": [
    "# print the extracted titles using iteration\n",
    "print(\"\\n*********Product Titles from main page*********\\n\")\n",
    "for title_text in product_title:\n",
    "    print (title_text.text)"
   ]
  },
  {
   "cell_type": "code",
   "execution_count": 401,
   "id": "da4fce79",
   "metadata": {},
   "outputs": [],
   "source": [
    "# Initialization of lists to store the items required\n",
    "myUrlList = []\n",
    "myTitleList = []\n",
    "myItemCodeList = []\n",
    "myManufacturerList = []\n",
    "myPriceList = []"
   ]
  },
  {
   "cell_type": "code",
   "execution_count": 402,
   "id": "e91cd9bb",
   "metadata": {},
   "outputs": [
    {
     "name": "stdout",
     "output_type": "stream",
     "text": [
      "\n",
      "*********Product URLS from main page*********\n",
      "\n",
      "https://automatikai.lt/en/xtra/850-selfie-stick-linocell-7309860993990.html\n",
      "https://automatikai.lt/en/xtra/851-selfie-stick-oth-ab402-6972154640033.html\n",
      "https://automatikai.lt/en/xtra/852-richartz-key-organizer-modern-1.html\n"
     ]
    }
   ],
   "source": [
    "# print the extracted urls using iteration\n",
    "print(\"\\n*********Product URLS from main page*********\\n\")\n",
    "\n",
    "\n",
    "\n",
    "for link in links_div_one:\n",
    "    href = link.get_attribute('href')\n",
    "    print (href)\n",
    "    #save the extracted urls in list\n",
    "    myUrlList.append(href)\n"
   ]
  },
  {
   "cell_type": "code",
   "execution_count": 403,
   "id": "35c03fd0",
   "metadata": {},
   "outputs": [
    {
     "name": "stdout",
     "output_type": "stream",
     "text": [
      "\n",
      "*********URLs in the List*********\n",
      "\n",
      "['https://automatikai.lt/en/xtra/850-selfie-stick-linocell-7309860993990.html', 'https://automatikai.lt/en/xtra/851-selfie-stick-oth-ab402-6972154640033.html', 'https://automatikai.lt/en/xtra/852-richartz-key-organizer-modern-1.html']\n"
     ]
    }
   ],
   "source": [
    "# Urls saved in the list\n",
    "print(\"\\n*********URLs in the List*********\\n\")    \n",
    "print(myUrlList)"
   ]
  },
  {
   "cell_type": "code",
   "execution_count": 404,
   "id": "d82efe61",
   "metadata": {},
   "outputs": [
    {
     "name": "stdout",
     "output_type": "stream",
     "text": [
      "['https://automatikai.lt/en/xtra/850-selfie-stick-linocell-7309860993990.html', 'https://automatikai.lt/en/xtra/851-selfie-stick-oth-ab402-6972154640033.html', 'https://automatikai.lt/en/xtra/852-richartz-key-organizer-modern-1.html']\n"
     ]
    }
   ],
   "source": [
    "myUrlList = list(dict.fromkeys(myUrlList))\n",
    "print(myUrlList)"
   ]
  },
  {
   "cell_type": "code",
   "execution_count": 405,
   "id": "7e94087a",
   "metadata": {},
   "outputs": [
    {
     "name": "stdout",
     "output_type": "stream",
     "text": [
      "\n",
      "*********Total Number of Products on main page*********\n",
      "\n",
      "3\n"
     ]
    }
   ],
   "source": [
    "# Printing total number of products on main page\n",
    "print(\"\\n*********Total Number of Products on main page*********\\n\")  \n",
    "print(len(myUrlList))"
   ]
  },
  {
   "cell_type": "code",
   "execution_count": 406,
   "id": "7255e2b1",
   "metadata": {},
   "outputs": [
    {
     "name": "stdout",
     "output_type": "stream",
     "text": [
      "\n",
      "*********Details from the Product page*********\n",
      "\n",
      "Product URL : https://automatikai.lt/en/xtra/850-selfie-stick-linocell-7309860993990.html\n",
      "Product Title : Selfie Stick Linocell\n",
      "Item Code : XX.STICK_99399\n",
      "Price : 29,00 €\n",
      "Product URL : https://automatikai.lt/en/xtra/851-selfie-stick-oth-ab402-6972154640033.html\n",
      "Product Title : Selfie Stick Oth-AB402\n",
      "Item Code : XX.STICK_OTH-AB402\n",
      "Price : 25,00 €\n",
      "Product URL : https://automatikai.lt/en/xtra/852-richartz-key-organizer-modern-1.html\n",
      "Product Title : KEY ORGANIZER modern-1\n",
      "Item Code : XX.50-868792\n",
      "Price : 7,50 €\n"
     ]
    }
   ],
   "source": [
    "    \n",
    "# Printing the details from the Product page\n",
    "print(\"\\n*********Details from the Product page*********\\n\")\n",
    "for x in range(len(myUrlList)): \n",
    "    print(\"Product URL :\", myUrlList[x])\n",
    "    browser.get(myUrlList[x])\n",
    "    time.sleep(1)\n",
    "    \n",
    "    #Scroll till the end of page\n",
    "    browser.execute_script(\"window.scrollTo(0, document.body.scrollHeight);\")\n",
    "\n",
    "    #Extracting required elements from webpage\n",
    "    product_title = browser.find_element(By.XPATH, \"//h1[@itemprop='name']\")\n",
    "    print(\"Product Title :\", product_title.text)\n",
    "    title=product_title.text\n",
    "    myTitleList.append(title)\n",
    "    \n",
    "    product_item_code = browser.find_element(By.XPATH, \"//span[@itemprop='sku']\")\n",
    "    print(\"Item Code :\", product_item_code.text)\n",
    "    item_code=product_item_code.text\n",
    "    myItemCodeList.append(item_code)\n",
    "    \n",
    "    \n",
    "    \n",
    "    try:\n",
    "        product_manufacturer = browser.find_element(By.XPATH, \"//p[@itemprop='brand']/a/span[@itemprop='name']\")\n",
    "        print(\"Manufacturer :\", product_manufacturer.text)\n",
    "        manufacturer=product_manufacturer.text\n",
    "    except:\n",
    "        manufacturer=\"NA\"\n",
    "    myManufacturerList.append(manufacturer)\n",
    "    \n",
    "    product_price = browser.find_element(By.XPATH, \"//span[@itemprop='price']\")\n",
    "    print(\"Price :\", product_price.text)\n",
    "    price=product_price.text\n",
    "    myPriceList.append(price)\n",
    "    \n",
    "    #Go Back to the parent page\n",
    "    browser.execute_script(\"window.history.go(-1)\")\n",
    "    time.sleep(1)\n",
    "    #Scroll till the end of page\n",
    "    browser.execute_script(\"window.scrollTo(0, document.body.scrollHeight);\")"
   ]
  },
  {
   "cell_type": "code",
   "execution_count": 407,
   "id": "5726b633",
   "metadata": {},
   "outputs": [
    {
     "data": {
      "text/plain": [
       "'\\n# print the product details of extracted urls using iteration  \\nprint(\"\\n*********Product Details from product page*********\\n\")\\nfor link in links_div_one:\\nhref = link.get_attribute(\\'href\\')\\nprint (href)\\nbrowser.get(href)\\ntime.sleep(1)\\n\\n#Scroll till the end of page\\nbrowser.execute_script(\"window.scrollTo(0, document.body.scrollHeight);\")\\n\\n#Extracting required elements from webpage\\npost_element = browser.find_element(By.XPATH, \"//span[@id=\\'productTitle\\']\")\\nprint(post_element.text)\\n\\n#Go Back to the parent page\\nbrowser.execute_script(\"window.history.go(-1)\")\\ntime.sleep(1)\\n#Scroll till the end of page\\nbrowser.execute_script(\"window.scrollTo(0, document.body.scrollHeight);\")\\n'"
      ]
     },
     "execution_count": 407,
     "metadata": {},
     "output_type": "execute_result"
    }
   ],
   "source": [
    "\n",
    "    \"\"\"\n",
    "# print the product details of extracted urls using iteration  \n",
    "print(\"\\n*********Product Details from product page*********\\n\")\n",
    "for link in links_div_one:\n",
    "    href = link.get_attribute('href')\n",
    "    print (href)\n",
    "    browser.get(href)\n",
    "    time.sleep(1)\n",
    "    \n",
    "    #Scroll till the end of page\n",
    "    browser.execute_script(\"window.scrollTo(0, document.body.scrollHeight);\")\n",
    "\n",
    "    #Extracting required elements from webpage\n",
    "    post_element = browser.find_element(By.XPATH, \"//span[@id='productTitle']\")\n",
    "    print(post_element.text)\n",
    "    \n",
    "    #Go Back to the parent page\n",
    "    browser.execute_script(\"window.history.go(-1)\")\n",
    "    time.sleep(1)\n",
    "    #Scroll till the end of page\n",
    "    browser.execute_script(\"window.scrollTo(0, document.body.scrollHeight);\")\n",
    "    \"\"\"\n",
    "    "
   ]
  },
  {
   "cell_type": "code",
   "execution_count": 408,
   "id": "4f46382c",
   "metadata": {},
   "outputs": [
    {
     "name": "stdout",
     "output_type": "stream",
     "text": [
      "\n",
      "*********Titles in the List*********\n",
      "\n",
      "3\n",
      "3\n",
      "3\n",
      "3\n",
      "3\n"
     ]
    }
   ],
   "source": [
    "# Titles saved in the list\n",
    "print(\"\\n*********Titles in the List*********\\n\")    \n",
    "print(len(myTitleList))\n",
    "print(len(myUrlList))\n",
    "print(len(myItemCodeList))\n",
    "print(len(myManufacturerList))\n",
    "print(len(myPriceList))"
   ]
  },
  {
   "cell_type": "code",
   "execution_count": 409,
   "id": "8081c7a1",
   "metadata": {},
   "outputs": [
    {
     "name": "stdout",
     "output_type": "stream",
     "text": [
      "\n",
      "*********ASINs in the List*********\n",
      "\n",
      "['XX.STICK_99399', 'XX.STICK_OTH-AB402', 'XX.50-868792']\n"
     ]
    }
   ],
   "source": [
    "\n",
    "# ASINs saved in the list\n",
    "print(\"\\n*********ASINs in the List*********\\n\")    \n",
    "print(myItemCodeList)"
   ]
  },
  {
   "cell_type": "code",
   "execution_count": 410,
   "id": "8aa12d52",
   "metadata": {},
   "outputs": [],
   "source": [
    "import pandas as pd"
   ]
  },
  {
   "cell_type": "code",
   "execution_count": 411,
   "id": "ba106ca8",
   "metadata": {},
   "outputs": [],
   "source": [
    "data = {\n",
    "    'URL': myUrlList,\n",
    "    'Title': myTitleList,\n",
    "    'Item Code': myItemCodeList,\n",
    "    'Manufacturer': myManufacturerList,\n",
    "    'Price': myPriceList\n",
    "}\n",
    "# dataframe from dictionary\n",
    "df = pd.DataFrame(data)"
   ]
  },
  {
   "cell_type": "code",
   "execution_count": 412,
   "id": "e9c9511e",
   "metadata": {},
   "outputs": [
    {
     "data": {
      "text/html": [
       "<div>\n",
       "<style scoped>\n",
       "    .dataframe tbody tr th:only-of-type {\n",
       "        vertical-align: middle;\n",
       "    }\n",
       "\n",
       "    .dataframe tbody tr th {\n",
       "        vertical-align: top;\n",
       "    }\n",
       "\n",
       "    .dataframe thead th {\n",
       "        text-align: right;\n",
       "    }\n",
       "</style>\n",
       "<table border=\"1\" class=\"dataframe\">\n",
       "  <thead>\n",
       "    <tr style=\"text-align: right;\">\n",
       "      <th></th>\n",
       "      <th>URL</th>\n",
       "      <th>Title</th>\n",
       "      <th>Item Code</th>\n",
       "      <th>Manufacturer</th>\n",
       "      <th>Price</th>\n",
       "    </tr>\n",
       "  </thead>\n",
       "  <tbody>\n",
       "    <tr>\n",
       "      <th>0</th>\n",
       "      <td>https://automatikai.lt/en/xtra/850-selfie-stic...</td>\n",
       "      <td>Selfie Stick Linocell</td>\n",
       "      <td>XX.STICK_99399</td>\n",
       "      <td>NA</td>\n",
       "      <td>29,00 €</td>\n",
       "    </tr>\n",
       "    <tr>\n",
       "      <th>1</th>\n",
       "      <td>https://automatikai.lt/en/xtra/851-selfie-stic...</td>\n",
       "      <td>Selfie Stick Oth-AB402</td>\n",
       "      <td>XX.STICK_OTH-AB402</td>\n",
       "      <td>NA</td>\n",
       "      <td>25,00 €</td>\n",
       "    </tr>\n",
       "    <tr>\n",
       "      <th>2</th>\n",
       "      <td>https://automatikai.lt/en/xtra/852-richartz-ke...</td>\n",
       "      <td>KEY ORGANIZER modern-1</td>\n",
       "      <td>XX.50-868792</td>\n",
       "      <td>NA</td>\n",
       "      <td>7,50 €</td>\n",
       "    </tr>\n",
       "  </tbody>\n",
       "</table>\n",
       "</div>"
      ],
      "text/plain": [
       "                                                 URL                   Title  \\\n",
       "0  https://automatikai.lt/en/xtra/850-selfie-stic...   Selfie Stick Linocell   \n",
       "1  https://automatikai.lt/en/xtra/851-selfie-stic...  Selfie Stick Oth-AB402   \n",
       "2  https://automatikai.lt/en/xtra/852-richartz-ke...  KEY ORGANIZER modern-1   \n",
       "\n",
       "            Item Code Manufacturer    Price  \n",
       "0      XX.STICK_99399           NA  29,00 €  \n",
       "1  XX.STICK_OTH-AB402           NA  25,00 €  \n",
       "2        XX.50-868792           NA   7,50 €  "
      ]
     },
     "execution_count": 412,
     "metadata": {},
     "output_type": "execute_result"
    }
   ],
   "source": [
    "\"\"\"\n",
    "df=pd.DataFrame()\n",
    "'URL': myUrlList,\n",
    "'Title': myTitleList,\n",
    "'Item Code': myItemCodeList\n",
    "'Manufacturer': myManufacturerList,\n",
    "'Price': myPriceList\n",
    "\"\"\"\n",
    "df"
   ]
  },
  {
   "cell_type": "code",
   "execution_count": 413,
   "id": "ffee64c8",
   "metadata": {},
   "outputs": [],
   "source": [
    "#for exporting it into the data frame\n",
    "df.to_csv('automatikai.csv', mode='a', index=False, header=False)"
   ]
  },
  {
   "cell_type": "code",
   "execution_count": null,
   "id": "b5c4303d",
   "metadata": {},
   "outputs": [],
   "source": []
  }
 ],
 "metadata": {
  "kernelspec": {
   "display_name": "Python 3 (ipykernel)",
   "language": "python",
   "name": "python3"
  },
  "language_info": {
   "codemirror_mode": {
    "name": "ipython",
    "version": 3
   },
   "file_extension": ".py",
   "mimetype": "text/x-python",
   "name": "python",
   "nbconvert_exporter": "python",
   "pygments_lexer": "ipython3",
   "version": "3.9.12"
  }
 },
 "nbformat": 4,
 "nbformat_minor": 5
}
